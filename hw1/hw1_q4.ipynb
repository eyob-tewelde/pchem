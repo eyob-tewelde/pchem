{
 "cells": [
  {
   "cell_type": "code",
   "execution_count": 51,
   "metadata": {},
   "outputs": [],
   "source": [
    "import pandas as pd\n",
    "import numpy as np\n",
    "\n",
    "R = 8.314"
   ]
  },
  {
   "cell_type": "code",
   "execution_count": 52,
   "metadata": {},
   "outputs": [],
   "source": [
    "def bar_pas(bar):\n",
    "    return bar * 100000"
   ]
  },
  {
   "cell_type": "code",
   "execution_count": 53,
   "metadata": {},
   "outputs": [],
   "source": [
    "def lit_met(lit):\n",
    "    return lit * 1000"
   ]
  },
  {
   "cell_type": "code",
   "execution_count": 54,
   "metadata": {},
   "outputs": [],
   "source": [
    "def zc(row, R=8.314):\n",
    "    if row['zc'] is None:\n",
    "        row['zc'] = row['Pc'] / (row['pc'] * R * row['Tc'])\n",
    "    return None"
   ]
  },
  {
   "cell_type": "code",
   "execution_count": 55,
   "metadata": {},
   "outputs": [],
   "source": [
    "data = {\n",
    "    'Ne': {\n",
    "        'Tc': 44.8,\n",
    "        'Pc': 2.73*10**6,\n",
    "        'pc': 2.4*10**4,\n",
    "        'zc': 0.305\n",
    "    },\n",
    "    'Xe': {\n",
    "        'Tc': 289.8,\n",
    "        'Pc': 5.84*10**6,\n",
    "        'pc': 8.418*10**3,\n",
    "        'zc': 0.288\n",
    "    },\n",
    "    'He': {\n",
    "        'Tc': 5.2,\n",
    "        'Pc': bar_pas(2.274),\n",
    "        'pc': lit_met(17.4),\n",
    "        'zc': None\n",
    "    },\n",
    "    'Ar': {\n",
    "        'Tc': 150.86,\n",
    "        'Pc': bar_pas(4.8979),\n",
    "        'pc': lit_met(13.28),\n",
    "        'zc': 0.294\n",
    "    },\n",
    "    'Kr': {\n",
    "        'Tc': 209.46,\n",
    "        'Pc': bar_pas(55.2019),\n",
    "        'pc': lit_met(11),\n",
    "        'zc': None\n",
    "    },\n",
    "    'H2': {\n",
    "        'Tc': 33.18,\n",
    "        'Pc': bar_pas(13),\n",
    "        'pc': lit_met(15.4),\n",
    "        'zc': None\n",
    "    },\n",
    "    'N2': {\n",
    "        'Tc': 126.19,\n",
    "        'Pc': bar_pas(33.978),\n",
    "        'pc': lit_met(11.18),\n",
    "        'zc': None\n",
    "    },\n",
    "    'O2': {\n",
    "        'Tc': 154.58,\n",
    "        'Pc': bar_pas(50.43),\n",
    "        'pc': lit_met(13.6),\n",
    "        'zc': None\n",
    "    },\n",
    "    'Cl2': {\n",
    "        'Tc': 416.956,\n",
    "        'Pc': bar_pas(79.914),\n",
    "        'pc': lit_met(8.1344),\n",
    "        'zc': None\n",
    "    },\n",
    "    'CO': {\n",
    "        'Tc': 134.45,\n",
    "        'Pc': bar_pas(34.9875),\n",
    "        'pc': lit_met(11.1),\n",
    "        'zc': None\n",
    "    },\n",
    "    'CH4': {\n",
    "        'Tc': 190.6,\n",
    "        'Pc': bar_pas(46.1),\n",
    "        'pc': lit_met(10.1),\n",
    "        'zc': None\n",
    "    },\n",
    "    'CO2': {\n",
    "        'Tc': 304.18,\n",
    "        'Pc': bar_pas(73.8),\n",
    "        'pc': lit_met(10.6),\n",
    "        'zc': None\n",
    "    },\n",
    "    'SF6': {\n",
    "        'Tc': 318.72,\n",
    "        'Pc': bar_pas(3.759),\n",
    "        'pc': lit_met(5.147),\n",
    "        'zc': None\n",
    "    }\n",
    "    \n",
    "\n",
    "}\n",
    "\n",
    "df = pd.DataFrame(data)"
   ]
  },
  {
   "cell_type": "code",
   "execution_count": 56,
   "metadata": {},
   "outputs": [
    {
     "data": {
      "text/html": [
       "<div>\n",
       "<style scoped>\n",
       "    .dataframe tbody tr th:only-of-type {\n",
       "        vertical-align: middle;\n",
       "    }\n",
       "\n",
       "    .dataframe tbody tr th {\n",
       "        vertical-align: top;\n",
       "    }\n",
       "\n",
       "    .dataframe thead th {\n",
       "        text-align: right;\n",
       "    }\n",
       "</style>\n",
       "<table border=\"1\" class=\"dataframe\">\n",
       "  <thead>\n",
       "    <tr style=\"text-align: right;\">\n",
       "      <th></th>\n",
       "      <th>Ne</th>\n",
       "      <th>Xe</th>\n",
       "      <th>He</th>\n",
       "      <th>Ar</th>\n",
       "      <th>Kr</th>\n",
       "      <th>H2</th>\n",
       "      <th>N2</th>\n",
       "      <th>O2</th>\n",
       "      <th>Cl2</th>\n",
       "      <th>CO</th>\n",
       "      <th>CH4</th>\n",
       "      <th>CO2</th>\n",
       "      <th>SF6</th>\n",
       "    </tr>\n",
       "  </thead>\n",
       "  <tbody>\n",
       "    <tr>\n",
       "      <th>Tc</th>\n",
       "      <td>44.800</td>\n",
       "      <td>289.800</td>\n",
       "      <td>5.2</td>\n",
       "      <td>150.860</td>\n",
       "      <td>209.46</td>\n",
       "      <td>33.18</td>\n",
       "      <td>126.19</td>\n",
       "      <td>154.58</td>\n",
       "      <td>416.956</td>\n",
       "      <td>134.45</td>\n",
       "      <td>190.6</td>\n",
       "      <td>304.18</td>\n",
       "      <td>318.72</td>\n",
       "    </tr>\n",
       "    <tr>\n",
       "      <th>Pc</th>\n",
       "      <td>2730000.000</td>\n",
       "      <td>5840000.000</td>\n",
       "      <td>227400.0</td>\n",
       "      <td>489790.000</td>\n",
       "      <td>5520190.00</td>\n",
       "      <td>1300000.00</td>\n",
       "      <td>3397800.00</td>\n",
       "      <td>5043000.00</td>\n",
       "      <td>7991400.000</td>\n",
       "      <td>3498750.00</td>\n",
       "      <td>4610000.0</td>\n",
       "      <td>7380000.00</td>\n",
       "      <td>375900.00</td>\n",
       "    </tr>\n",
       "    <tr>\n",
       "      <th>pc</th>\n",
       "      <td>24000.000</td>\n",
       "      <td>8418.000</td>\n",
       "      <td>17400.0</td>\n",
       "      <td>13280.000</td>\n",
       "      <td>11000.00</td>\n",
       "      <td>15400.00</td>\n",
       "      <td>11180.00</td>\n",
       "      <td>13600.00</td>\n",
       "      <td>8134.400</td>\n",
       "      <td>11100.00</td>\n",
       "      <td>10100.0</td>\n",
       "      <td>10600.00</td>\n",
       "      <td>5147.00</td>\n",
       "    </tr>\n",
       "    <tr>\n",
       "      <th>zc</th>\n",
       "      <td>0.305</td>\n",
       "      <td>0.288</td>\n",
       "      <td>NaN</td>\n",
       "      <td>0.294</td>\n",
       "      <td>NaN</td>\n",
       "      <td>NaN</td>\n",
       "      <td>NaN</td>\n",
       "      <td>NaN</td>\n",
       "      <td>NaN</td>\n",
       "      <td>NaN</td>\n",
       "      <td>NaN</td>\n",
       "      <td>NaN</td>\n",
       "      <td>NaN</td>\n",
       "    </tr>\n",
       "  </tbody>\n",
       "</table>\n",
       "</div>"
      ],
      "text/plain": [
       "             Ne           Xe        He          Ar          Kr          H2  \\\n",
       "Tc       44.800      289.800       5.2     150.860      209.46       33.18   \n",
       "Pc  2730000.000  5840000.000  227400.0  489790.000  5520190.00  1300000.00   \n",
       "pc    24000.000     8418.000   17400.0   13280.000    11000.00    15400.00   \n",
       "zc        0.305        0.288       NaN       0.294         NaN         NaN   \n",
       "\n",
       "            N2          O2          Cl2          CO        CH4         CO2  \\\n",
       "Tc      126.19      154.58      416.956      134.45      190.6      304.18   \n",
       "Pc  3397800.00  5043000.00  7991400.000  3498750.00  4610000.0  7380000.00   \n",
       "pc    11180.00    13600.00     8134.400    11100.00    10100.0    10600.00   \n",
       "zc         NaN         NaN          NaN         NaN        NaN         NaN   \n",
       "\n",
       "          SF6  \n",
       "Tc     318.72  \n",
       "Pc  375900.00  \n",
       "pc    5147.00  \n",
       "zc        NaN  "
      ]
     },
     "execution_count": 56,
     "metadata": {},
     "output_type": "execute_result"
    }
   ],
   "source": [
    "df"
   ]
  },
  {
   "cell_type": "code",
   "execution_count": 57,
   "metadata": {},
   "outputs": [
    {
     "name": "stderr",
     "output_type": "stream",
     "text": [
      "/var/folders/z_/6bzkbs012v57_96_cfxgbkzw0000gr/T/ipykernel_82499/3209195827.py:3: FutureWarning: ChainedAssignmentError: behaviour will change in pandas 3.0!\n",
      "You are setting values through chained assignment. Currently this works in certain cases, but when using Copy-on-Write (which will become the default behaviour in pandas 3.0) this will never work to update the original DataFrame or Series, because the intermediate object on which we are setting values will behave as a copy.\n",
      "A typical example is when you are setting values in a column of a DataFrame, like:\n",
      "\n",
      "df[\"col\"][row_indexer] = value\n",
      "\n",
      "Use `df.loc[row_indexer, \"col\"] = values` instead, to perform the assignment in a single step and ensure this keeps updating the original `df`.\n",
      "\n",
      "See the caveats in the documentation: https://pandas.pydata.org/pandas-docs/stable/user_guide/indexing.html#returning-a-view-versus-a-copy\n",
      "\n",
      "  df[f'{column}']['zc'] = df[f'{column}']['Pc'] / (df[f'{column}']['pc'] * R * df[f'{column}']['Tc'])\n"
     ]
    }
   ],
   "source": [
    "for column in df:\n",
    "    if np.isnan(df[f'{column}']['zc']):\n",
    "        df[f'{column}']['zc'] = df[f'{column}']['Pc'] / (df[f'{column}']['pc'] * R * df[f'{column}']['Tc'])"
   ]
  },
  {
   "cell_type": "code",
   "execution_count": 58,
   "metadata": {},
   "outputs": [
    {
     "data": {
      "text/html": [
       "<div>\n",
       "<style scoped>\n",
       "    .dataframe tbody tr th:only-of-type {\n",
       "        vertical-align: middle;\n",
       "    }\n",
       "\n",
       "    .dataframe tbody tr th {\n",
       "        vertical-align: top;\n",
       "    }\n",
       "\n",
       "    .dataframe thead th {\n",
       "        text-align: right;\n",
       "    }\n",
       "</style>\n",
       "<table border=\"1\" class=\"dataframe\">\n",
       "  <thead>\n",
       "    <tr style=\"text-align: right;\">\n",
       "      <th></th>\n",
       "      <th>Ne</th>\n",
       "      <th>Xe</th>\n",
       "      <th>He</th>\n",
       "      <th>Ar</th>\n",
       "      <th>Kr</th>\n",
       "      <th>H2</th>\n",
       "      <th>N2</th>\n",
       "      <th>O2</th>\n",
       "      <th>Cl2</th>\n",
       "      <th>CO</th>\n",
       "      <th>CH4</th>\n",
       "      <th>CO2</th>\n",
       "      <th>SF6</th>\n",
       "    </tr>\n",
       "  </thead>\n",
       "  <tbody>\n",
       "    <tr>\n",
       "      <th>Tc</th>\n",
       "      <td>44.800</td>\n",
       "      <td>289.800</td>\n",
       "      <td>5.200000</td>\n",
       "      <td>150.860</td>\n",
       "      <td>2.094600e+02</td>\n",
       "      <td>3.318000e+01</td>\n",
       "      <td>1.261900e+02</td>\n",
       "      <td>1.545800e+02</td>\n",
       "      <td>4.169560e+02</td>\n",
       "      <td>1.344500e+02</td>\n",
       "      <td>1.906000e+02</td>\n",
       "      <td>3.041800e+02</td>\n",
       "      <td>318.720000</td>\n",
       "    </tr>\n",
       "    <tr>\n",
       "      <th>Pc</th>\n",
       "      <td>2730000.000</td>\n",
       "      <td>5840000.000</td>\n",
       "      <td>227400.000000</td>\n",
       "      <td>489790.000</td>\n",
       "      <td>5.520190e+06</td>\n",
       "      <td>1.300000e+06</td>\n",
       "      <td>3.397800e+06</td>\n",
       "      <td>5.043000e+06</td>\n",
       "      <td>7.991400e+06</td>\n",
       "      <td>3.498750e+06</td>\n",
       "      <td>4.610000e+06</td>\n",
       "      <td>7.380000e+06</td>\n",
       "      <td>375900.000000</td>\n",
       "    </tr>\n",
       "    <tr>\n",
       "      <th>pc</th>\n",
       "      <td>24000.000</td>\n",
       "      <td>8418.000</td>\n",
       "      <td>17400.000000</td>\n",
       "      <td>13280.000</td>\n",
       "      <td>1.100000e+04</td>\n",
       "      <td>1.540000e+04</td>\n",
       "      <td>1.118000e+04</td>\n",
       "      <td>1.360000e+04</td>\n",
       "      <td>8.134400e+03</td>\n",
       "      <td>1.110000e+04</td>\n",
       "      <td>1.010000e+04</td>\n",
       "      <td>1.060000e+04</td>\n",
       "      <td>5147.000000</td>\n",
       "    </tr>\n",
       "    <tr>\n",
       "      <th>zc</th>\n",
       "      <td>0.305</td>\n",
       "      <td>0.288</td>\n",
       "      <td>0.302293</td>\n",
       "      <td>0.294</td>\n",
       "      <td>2.881710e-01</td>\n",
       "      <td>3.060104e-01</td>\n",
       "      <td>2.896817e-01</td>\n",
       "      <td>2.885272e-01</td>\n",
       "      <td>2.833982e-01</td>\n",
       "      <td>2.819805e-01</td>\n",
       "      <td>2.880359e-01</td>\n",
       "      <td>2.753023e-01</td>\n",
       "      <td>0.027561</td>\n",
       "    </tr>\n",
       "  </tbody>\n",
       "</table>\n",
       "</div>"
      ],
      "text/plain": [
       "             Ne           Xe             He          Ar            Kr  \\\n",
       "Tc       44.800      289.800       5.200000     150.860  2.094600e+02   \n",
       "Pc  2730000.000  5840000.000  227400.000000  489790.000  5.520190e+06   \n",
       "pc    24000.000     8418.000   17400.000000   13280.000  1.100000e+04   \n",
       "zc        0.305        0.288       0.302293       0.294  2.881710e-01   \n",
       "\n",
       "              H2            N2            O2           Cl2            CO  \\\n",
       "Tc  3.318000e+01  1.261900e+02  1.545800e+02  4.169560e+02  1.344500e+02   \n",
       "Pc  1.300000e+06  3.397800e+06  5.043000e+06  7.991400e+06  3.498750e+06   \n",
       "pc  1.540000e+04  1.118000e+04  1.360000e+04  8.134400e+03  1.110000e+04   \n",
       "zc  3.060104e-01  2.896817e-01  2.885272e-01  2.833982e-01  2.819805e-01   \n",
       "\n",
       "             CH4           CO2            SF6  \n",
       "Tc  1.906000e+02  3.041800e+02     318.720000  \n",
       "Pc  4.610000e+06  7.380000e+06  375900.000000  \n",
       "pc  1.010000e+04  1.060000e+04    5147.000000  \n",
       "zc  2.880359e-01  2.753023e-01       0.027561  "
      ]
     },
     "execution_count": 58,
     "metadata": {},
     "output_type": "execute_result"
    }
   ],
   "source": [
    "df"
   ]
  },
  {
   "cell_type": "code",
   "execution_count": 59,
   "metadata": {},
   "outputs": [],
   "source": [
    "avg = df.mean(axis=1)\n",
    "std = df.std(axis=1)"
   ]
  },
  {
   "cell_type": "code",
   "execution_count": 60,
   "metadata": {},
   "outputs": [
    {
     "name": "stdout",
     "output_type": "stream",
     "text": [
      "Average zc: 0.271\n",
      "Standard deviation zc: 0.0736\n"
     ]
    }
   ],
   "source": [
    "print(f\"Average zc: {avg.values[-1]:.3}\")\n",
    "print(f\"Standard deviation zc: {std.values[-1]:.3}\")"
   ]
  },
  {
   "cell_type": "code",
   "execution_count": 61,
   "metadata": {},
   "outputs": [],
   "source": [
    "df.to_csv('hw1_q4.csv')"
   ]
  },
  {
   "cell_type": "code",
   "execution_count": 62,
   "metadata": {},
   "outputs": [
    {
     "name": "stdout",
     "output_type": "stream",
     "text": [
      "Tc: max = 4.17e+02, Column = Cl2\n",
      "Pc: max = 7.99e+06, Column = Cl2\n",
      "pc: max = 2.4e+04, Column = Ne\n",
      "zc: max = 0.306, Column = H2\n"
     ]
    },
    {
     "name": "stderr",
     "output_type": "stream",
     "text": [
      "/var/folders/z_/6bzkbs012v57_96_cfxgbkzw0000gr/T/ipykernel_82499/3781666475.py:5: FutureWarning: Series.__getitem__ treating keys as positions is deprecated. In a future version, integer keys will always be treated as labels (consistent with DataFrame behavior). To access a value by position, use `ser.iloc[pos]`\n",
      "  print(f\"{df.index[i]}: max = {max[i]:.3}, Column = {max_col[i]}\")\n"
     ]
    }
   ],
   "source": [
    "max = df.max(axis=1)\n",
    "max_col = df.idxmax(axis=1)\n",
    "\n",
    "for i in range(len(df)):\n",
    "    print(f\"{df.index[i]}: max = {max[i]:.3}, Column = {max_col[i]}\")\n",
    "\n"
   ]
  },
  {
   "cell_type": "code",
   "execution_count": 63,
   "metadata": {},
   "outputs": [
    {
     "name": "stdout",
     "output_type": "stream",
     "text": [
      "Tc: min = 5.2, Molecule = He\n",
      "Pc: min = 2.27e+05, Molecule = He\n",
      "pc: min = 5.15e+03, Molecule = SF6\n",
      "zc: min = 0.0276, Molecule = SF6\n"
     ]
    },
    {
     "name": "stderr",
     "output_type": "stream",
     "text": [
      "/var/folders/z_/6bzkbs012v57_96_cfxgbkzw0000gr/T/ipykernel_82499/260186119.py:6: FutureWarning: Series.__getitem__ treating keys as positions is deprecated. In a future version, integer keys will always be treated as labels (consistent with DataFrame behavior). To access a value by position, use `ser.iloc[pos]`\n",
      "  print(f\"{df.index[i]}: min = {min[i]:.3}, Molecule = {min_col[i]}\")\n"
     ]
    }
   ],
   "source": [
    "min = df.min(axis=1)\n",
    "min_col = df.idxmin(axis=1)\n",
    "\n",
    "\n",
    "for i in range(len(df)):\n",
    "    print(f\"{df.index[i]}: min = {min[i]:.3}, Molecule = {min_col[i]}\")\n"
   ]
  },
  {
   "cell_type": "code",
   "execution_count": 64,
   "metadata": {},
   "outputs": [],
   "source": [
    "upper_bound = avg + std\n",
    "lower_bound = avg - std\n",
    "\n",
    "# for i in range(len(df)):\n",
    "#     if i == 0:\n",
    "#         tc = df[:1]\n",
    "#         for name, data in tc.items():\n",
    "#             if data.values[0] > upper_bound[0]:\n",
    "#                 print(f\"{name} is above the standard deviation of {df.index[i]}\")\n",
    "#             if data.values[0] < lower_bound[0]:\n",
    "#                 print(f\"{name} is below the standard deviation of {df.index[i]}\")\n",
    "#     else:\n",
    "#         row_ind = df[i:i+1]\n",
    "#         for name, data in tc.items():\n",
    "#             if data.values[0] > upper_bound[i]:\n",
    "#                 print(f\"{name} is above the standard deviation of {df.index[i]}\")\n",
    "#             elif data.values[0] < lower_bound[i]:\n",
    "#                 print(f\"{name} is below the standard deviation of {df.index[i]}\")\n",
    "        "
   ]
  },
  {
   "cell_type": "code",
   "execution_count": 65,
   "metadata": {},
   "outputs": [
    {
     "name": "stderr",
     "output_type": "stream",
     "text": [
      "/var/folders/z_/6bzkbs012v57_96_cfxgbkzw0000gr/T/ipykernel_82499/1923584883.py:11: FutureWarning: Series.__getitem__ treating keys as positions is deprecated. In a future version, integer keys will always be treated as labels (consistent with DataFrame behavior). To access a value by position, use `ser.iloc[pos]`\n",
      "  if data.values[0] > upper_bound[0]:\n",
      "/var/folders/z_/6bzkbs012v57_96_cfxgbkzw0000gr/T/ipykernel_82499/1923584883.py:13: FutureWarning: Series.__getitem__ treating keys as positions is deprecated. In a future version, integer keys will always be treated as labels (consistent with DataFrame behavior). To access a value by position, use `ser.iloc[pos]`\n",
      "  if data.values[0] < lower_bound[0]:\n",
      "/var/folders/z_/6bzkbs012v57_96_cfxgbkzw0000gr/T/ipykernel_82499/1923584883.py:14: FutureWarning: Series.__getitem__ treating keys as positions is deprecated. In a future version, integer keys will always be treated as labels (consistent with DataFrame behavior). To access a value by position, use `ser.iloc[pos]`\n",
      "  tc_dict[\"Tc\"][name] = f\"-: {(np.abs(data.values[0] - upper_bound[0])):.2e}\"\n",
      "/var/folders/z_/6bzkbs012v57_96_cfxgbkzw0000gr/T/ipykernel_82499/1923584883.py:12: FutureWarning: Series.__getitem__ treating keys as positions is deprecated. In a future version, integer keys will always be treated as labels (consistent with DataFrame behavior). To access a value by position, use `ser.iloc[pos]`\n",
      "  tc_dict[\"Tc\"][name] = f\"+ {(np.abs(data.values[0] - upper_bound[0])):.2e}\"\n",
      "/var/folders/z_/6bzkbs012v57_96_cfxgbkzw0000gr/T/ipykernel_82499/1923584883.py:24: FutureWarning: Series.__getitem__ treating keys as positions is deprecated. In a future version, integer keys will always be treated as labels (consistent with DataFrame behavior). To access a value by position, use `ser.iloc[pos]`\n",
      "  if data.values[0] > upper_bound[i]:\n",
      "/var/folders/z_/6bzkbs012v57_96_cfxgbkzw0000gr/T/ipykernel_82499/1923584883.py:26: FutureWarning: Series.__getitem__ treating keys as positions is deprecated. In a future version, integer keys will always be treated as labels (consistent with DataFrame behavior). To access a value by position, use `ser.iloc[pos]`\n",
      "  elif data.values[0] < lower_bound[i]:\n",
      "/var/folders/z_/6bzkbs012v57_96_cfxgbkzw0000gr/T/ipykernel_82499/1923584883.py:27: FutureWarning: Series.__getitem__ treating keys as positions is deprecated. In a future version, integer keys will always be treated as labels (consistent with DataFrame behavior). To access a value by position, use `ser.iloc[pos]`\n",
      "  row_ind_dict[f\"{row_ind.index[0]}\"][name] = f\"-: {(np.abs(data.values[0] - upper_bound[i])):.2e}\"\n",
      "/var/folders/z_/6bzkbs012v57_96_cfxgbkzw0000gr/T/ipykernel_82499/1923584883.py:25: FutureWarning: Series.__getitem__ treating keys as positions is deprecated. In a future version, integer keys will always be treated as labels (consistent with DataFrame behavior). To access a value by position, use `ser.iloc[pos]`\n",
      "  row_ind_dict[f\"{row_ind.index[0]}\"][name] = f\"+: {(np.abs(data.values[0] - upper_bound[i])):.2e}\"\n"
     ]
    },
    {
     "data": {
      "text/plain": [
       "[{'Tc': {'Ne': '-: 2.61e+02',\n",
       "   'He': '-: 3.00e+02',\n",
       "   'H2': '-: 2.72e+02',\n",
       "   'Cl2': '+ 1.11e+02',\n",
       "   'SF6': '+ 1.30e+01'}},\n",
       " {'Pc': {'He': '-: 6.12e+06',\n",
       "   'Ar': '-: 5.86e+06',\n",
       "   'Cl2': '+: 1.64e+06',\n",
       "   'CO2': '+: 1.03e+06',\n",
       "   'SF6': '-: 5.97e+06'}},\n",
       " {'pc': {'Ne': '+: 6.99e+03', 'He': '+: 3.91e+02', 'SF6': '-: 1.19e+04'}},\n",
       " {'zc': {'SF6': '-: 3.17e-01'}}]"
      ]
     },
     "execution_count": 65,
     "metadata": {},
     "output_type": "execute_result"
    }
   ],
   "source": [
    "mark_std = []\n",
    "for i in range(len(df)):\n",
    "    if i == 0:\n",
    "        tc = df[:1]\n",
    "        tc_dict = {\n",
    "                \"Tc\":{\n",
    "                    \n",
    "                }\n",
    "            }\n",
    "        for name, data in tc.items():\n",
    "            if data.values[0] > upper_bound[0]:\n",
    "                tc_dict[\"Tc\"][name] = f\"+ {(np.abs(data.values[0] - upper_bound[0])):.2e}\"\n",
    "            if data.values[0] < lower_bound[0]:\n",
    "                tc_dict[\"Tc\"][name] = f\"-: {(np.abs(data.values[0] - upper_bound[0])):.2e}\"\n",
    "        mark_std.append(tc_dict)\n",
    "    else:\n",
    "        row_ind = df[i:i+1]\n",
    "        row_ind_dict = {\n",
    "            f\"{row_ind.index[0]}\":{\n",
    "\n",
    "            }\n",
    "        }\n",
    "        for name, data in row_ind.items():\n",
    "            if data.values[0] > upper_bound[i]:\n",
    "                row_ind_dict[f\"{row_ind.index[0]}\"][name] = f\"+: {(np.abs(data.values[0] - upper_bound[i])):.2e}\"\n",
    "            elif data.values[0] < lower_bound[i]:\n",
    "                row_ind_dict[f\"{row_ind.index[0]}\"][name] = f\"-: {(np.abs(data.values[0] - upper_bound[i])):.2e}\"\n",
    "        mark_std.append(row_ind_dict)\n",
    "\n",
    "mark_std_df = pd.DataFrame(mark_std)\n",
    "\n",
    "mark_std_df\n",
    "mark_std_df_transposed = mark_std_df.transpose()\n",
    "mark_std_df_transposed\n",
    "mark_std"
   ]
  },
  {
   "cell_type": "code",
   "execution_count": null,
   "metadata": {},
   "outputs": [],
   "source": []
  }
 ],
 "metadata": {
  "kernelspec": {
   "display_name": "Python 3",
   "language": "python",
   "name": "python3"
  },
  "language_info": {
   "codemirror_mode": {
    "name": "ipython",
    "version": 3
   },
   "file_extension": ".py",
   "mimetype": "text/x-python",
   "name": "python",
   "nbconvert_exporter": "python",
   "pygments_lexer": "ipython3",
   "version": "3.9.6"
  }
 },
 "nbformat": 4,
 "nbformat_minor": 2
}
